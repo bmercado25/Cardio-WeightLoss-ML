{
 "cells": [
  {
   "cell_type": "markdown",
   "id": "0a81f57e",
   "metadata": {},
   "source": [
    "# Does a person include running in their weight-loss regimen based on factors of their weight loss? - A Machine Learning Model\n",
    "Machine Learning Final Project by Brent Mercado"
   ]
  },
  {
   "cell_type": "markdown",
   "id": "a2a75956",
   "metadata": {},
   "source": [
    "### Background:\n",
    "In this project, I will be utilizing this(1) data set by Chris Bow on Kaggle, the biggest online data science community, to create a ML model that will predict whether a person \n",
    "includes running to their daily excercise routine regarding their weight and weight-loss. The main focus of the data set represents the potential relationship between weight loss and other factors such as calories, activity (running), weight and change in weight.\n",
    "\n",
    "I chose this dataset because of the relatability of the topic - as well as the depth that is featured within the data. Using my understanding of the behaviors within weight loss and activity levels, I found that this dataset is quite similar to my own and others experience (and quite well tracked than most people may extend to track!). The trends and outcomes, which we will explore as we go deeper and deeper into the project, are realistic in nature, meaning the model to be more applicable in day to day life for the average person. \n",
    "\n",
    "My goal with this project is to formulate a machine learning model that can predict where in which a person had integrated a run in their day based on their weight-loss metrics."
   ]
  },
  {
   "cell_type": "markdown",
   "id": "80d82f64",
   "metadata": {},
   "source": [
    "\n",
    "<div>\n",
    "<img src=\"https://hips.hearstapps.com/hmg-prod/images/articles/2016/09/running-tips-1486650558.jpg?resize=1200:*\" width=\"400\">\n",
    "</div>"
   ]
  },
  {
   "cell_type": "code",
   "execution_count": 1,
   "id": "e54f5aa3",
   "metadata": {},
   "outputs": [],
   "source": [
    "#import libraries\n",
    "import warnings\n",
    "warnings.simplefilter(action='ignore', category=FutureWarning)\n",
    "\n",
    "import pandas as pd\n",
    "import numpy as np"
   ]
  },
  {
   "cell_type": "markdown",
   "id": "a2c250b5",
   "metadata": {},
   "source": [
    "### The data set:\n"
   ]
  },
  {
   "cell_type": "markdown",
   "id": "a09c77cc",
   "metadata": {},
   "source": [
    "This data set shows some in depth information about this persons weight loss journey and the daily metrics that they have gathered to account for certain changes. Here we can observe this persons weight change over the course of ~5 months\n",
    "\n",
    "### To do for data set:\n",
    "- clean data of null values\n",
    "- select the best features for model\n",
    "\n",
    "###### note the \"change\" feature is in ounces"
   ]
  },
  {
   "cell_type": "code",
   "execution_count": 2,
   "id": "9a56dfac",
   "metadata": {
    "scrolled": true
   },
   "outputs": [
    {
     "data": {
      "text/html": [
       "<div>\n",
       "<style scoped>\n",
       "    .dataframe tbody tr th:only-of-type {\n",
       "        vertical-align: middle;\n",
       "    }\n",
       "\n",
       "    .dataframe tbody tr th {\n",
       "        vertical-align: top;\n",
       "    }\n",
       "\n",
       "    .dataframe thead th {\n",
       "        text-align: right;\n",
       "    }\n",
       "</style>\n",
       "<table border=\"1\" class=\"dataframe\">\n",
       "  <thead>\n",
       "    <tr style=\"text-align: right;\">\n",
       "      <th></th>\n",
       "      <th>Date</th>\n",
       "      <th>Stone</th>\n",
       "      <th>Pounds</th>\n",
       "      <th>Ounces</th>\n",
       "      <th>weight_oz</th>\n",
       "      <th>calories</th>\n",
       "      <th>cals_per_oz</th>\n",
       "      <th>five_donuts</th>\n",
       "      <th>walk</th>\n",
       "      <th>run</th>\n",
       "      <th>wine</th>\n",
       "      <th>prot</th>\n",
       "      <th>weight</th>\n",
       "      <th>change</th>\n",
       "    </tr>\n",
       "  </thead>\n",
       "  <tbody>\n",
       "    <tr>\n",
       "      <th>0</th>\n",
       "      <td>7/30/2018</td>\n",
       "      <td>12.0</td>\n",
       "      <td>2.0</td>\n",
       "      <td>6.0</td>\n",
       "      <td>2726.0</td>\n",
       "      <td>1950.0</td>\n",
       "      <td>0.72</td>\n",
       "      <td>1.0</td>\n",
       "      <td>1.0</td>\n",
       "      <td>0.0</td>\n",
       "      <td>0.0</td>\n",
       "      <td>0.0</td>\n",
       "      <td>0.0</td>\n",
       "      <td>-30.0</td>\n",
       "    </tr>\n",
       "    <tr>\n",
       "      <th>1</th>\n",
       "      <td>7/31/2018</td>\n",
       "      <td>12.0</td>\n",
       "      <td>0.0</td>\n",
       "      <td>8.0</td>\n",
       "      <td>2696.0</td>\n",
       "      <td>2600.0</td>\n",
       "      <td>0.96</td>\n",
       "      <td>1.0</td>\n",
       "      <td>0.0</td>\n",
       "      <td>0.0</td>\n",
       "      <td>0.0</td>\n",
       "      <td>0.0</td>\n",
       "      <td>0.0</td>\n",
       "      <td>8.0</td>\n",
       "    </tr>\n",
       "    <tr>\n",
       "      <th>2</th>\n",
       "      <td>8/1/2018</td>\n",
       "      <td>12.0</td>\n",
       "      <td>1.0</td>\n",
       "      <td>0.0</td>\n",
       "      <td>2704.0</td>\n",
       "      <td>2500.0</td>\n",
       "      <td>0.92</td>\n",
       "      <td>1.0</td>\n",
       "      <td>1.0</td>\n",
       "      <td>0.0</td>\n",
       "      <td>0.0</td>\n",
       "      <td>0.0</td>\n",
       "      <td>0.0</td>\n",
       "      <td>0.0</td>\n",
       "    </tr>\n",
       "    <tr>\n",
       "      <th>3</th>\n",
       "      <td>8/2/2018</td>\n",
       "      <td>12.0</td>\n",
       "      <td>1.0</td>\n",
       "      <td>0.0</td>\n",
       "      <td>2704.0</td>\n",
       "      <td>1850.0</td>\n",
       "      <td>0.68</td>\n",
       "      <td>1.0</td>\n",
       "      <td>1.0</td>\n",
       "      <td>0.0</td>\n",
       "      <td>1.0</td>\n",
       "      <td>0.0</td>\n",
       "      <td>0.0</td>\n",
       "      <td>-40.0</td>\n",
       "    </tr>\n",
       "    <tr>\n",
       "      <th>4</th>\n",
       "      <td>8/3/2018</td>\n",
       "      <td>11.0</td>\n",
       "      <td>12.0</td>\n",
       "      <td>8.0</td>\n",
       "      <td>2664.0</td>\n",
       "      <td>2900.0</td>\n",
       "      <td>1.09</td>\n",
       "      <td>1.0</td>\n",
       "      <td>1.0</td>\n",
       "      <td>0.0</td>\n",
       "      <td>0.0</td>\n",
       "      <td>0.0</td>\n",
       "      <td>0.0</td>\n",
       "      <td>14.0</td>\n",
       "    </tr>\n",
       "  </tbody>\n",
       "</table>\n",
       "</div>"
      ],
      "text/plain": [
       "        Date  Stone  Pounds  Ounces  weight_oz  calories cals_per_oz  \\\n",
       "0  7/30/2018   12.0     2.0     6.0     2726.0    1950.0        0.72   \n",
       "1  7/31/2018   12.0     0.0     8.0     2696.0    2600.0        0.96   \n",
       "2   8/1/2018   12.0     1.0     0.0     2704.0    2500.0        0.92   \n",
       "3   8/2/2018   12.0     1.0     0.0     2704.0    1850.0        0.68   \n",
       "4   8/3/2018   11.0    12.0     8.0     2664.0    2900.0        1.09   \n",
       "\n",
       "   five_donuts  walk  run  wine  prot  weight  change  \n",
       "0          1.0   1.0  0.0   0.0   0.0     0.0   -30.0  \n",
       "1          1.0   0.0  0.0   0.0   0.0     0.0     8.0  \n",
       "2          1.0   1.0  0.0   0.0   0.0     0.0     0.0  \n",
       "3          1.0   1.0  0.0   1.0   0.0     0.0   -40.0  \n",
       "4          1.0   1.0  0.0   0.0   0.0     0.0    14.0  "
      ]
     },
     "execution_count": 2,
     "metadata": {},
     "output_type": "execute_result"
    }
   ],
   "source": [
    "data = pd.read_csv(\"diet_data.csv\")\n",
    "data.head()"
   ]
  },
  {
   "cell_type": "markdown",
   "id": "6e8e3394",
   "metadata": {},
   "source": [
    "Here we see the full range of data features. With every day tracked, the individual had tracked each factor that came into play in that day - with some more \"fun\" features such as \"five_donuts\", meaning everyday where this individual ate 5 or more donuts is marked as 1\n",
    "\n",
    "The data includes important metrics such as weight_oz (weight in ounces) and calories, which are the hallmark factors of weight loss.\n",
    "\n",
    "Let's plot the weight of this individual, as well as the days ran to every date recorded to get an idea for the trend in the data"
   ]
  },
  {
   "cell_type": "code",
   "execution_count": 3,
   "id": "e62a63fb",
   "metadata": {
    "scrolled": false
   },
   "outputs": [
    {
     "data": {
      "text/plain": [
       "<AxesSubplot:xlabel='Date', ylabel='run'>"
      ]
     },
     "execution_count": 3,
     "metadata": {},
     "output_type": "execute_result"
    },
    {
     "data": {
      "image/png": "[encoded data removed]",
      "text/plain": [
       "<Figure size 640x480 with 1 Axes>"
      ]
     },
     "metadata": {},
     "output_type": "display_data"
    },
    {
     "data": {
      "image/png": "[encoded data removed]",
      "text/plain": [
       "<Figure size 640x480 with 1 Axes>"
      ]
     },
     "metadata": {},
     "output_type": "display_data"
    }
   ],
   "source": [
    "pdf = pd.DataFrame(data,columns=[\"Date\", \"weight_oz\", \"run\"])\n",
    "\n",
    "#clean the data of null data\n",
    "pdf= pdf[pdf['weight_oz'] != 0]\n",
    "pdf = pdf.dropna()\n",
    "\n",
    "#change date coloum to days progressed\n",
    "pdf['Date'] = pd.to_datetime(pd.to_datetime(pdf['Date'])) \n",
    "ref_date = pd.to_datetime('2018-07-30')\n",
    "pdf['Date'] = (pdf['Date'] - ref_date) / pd.Timedelta(days=1)\n",
    "\n",
    "\n",
    "#scatter plot of weight and date\n",
    "pdf.plot.scatter(x='Date',y='weight_oz',c='DarkBlue')\n",
    "pdf.plot.scatter(x='Date',y='run',c='red')"
   ]
  },
  {
   "cell_type": "markdown",
   "id": "39e4c80d",
   "metadata": {},
   "source": [
    "Here, we can observe a downward trend, especially near the tail end of the graph. Additionally, it seems that the density of the running feature grows higher near the tail end where we observe the most weight loss in this indivdual This suggests that the data is suitable for this problem as these weight fluctions are apparent, meaning the data will be variable to the feature we are trying to predict the value of.\n",
    "\n",
    "Another point that can be seen here is the sort of \"rocky\" nature of the individuals weight. This is very accurate to real life, in which weight loss is not linear in the short run scope.\n",
    "\n",
    "## The Machine Learning Model\n",
    "\n",
    "The k-nearest neighbor algorithm (or KNN) is a supervised machine learning algorithm that measures the proximity of distance from it's \"neighbor\" data points, grouped around an individual data point; where k in the name \"k-nearest neighbor\" refers to the amount of neighbors within the closest distance. It uses distance metrics across it's given features to predict an outcome. Although KNN can also be used for regression problems, it particularly shines in classification problems. [2]\n",
    "\n",
    "I will be utilizing the k-nearest neighbor algorithm with this particular data set for multiple reasons:\n",
    "- Data set < 100,000 samples\n",
    "- High tendency to be accurate\n",
    "- Versatile\n",
    "\n",
    "A downside that is often associated with the KNN algortithm is it's excessive use of memory due to being a lazy learner (focusing less on the \"training\" part of the data and more on the testing and prediction, meaning memory must be used to store most of the data). This however, is a minimal problem for this problem due to the concise nature of the data (data set < 100,000 samples)."
   ]
  },
  {
   "cell_type": "markdown",
   "id": "058c6aea",
   "metadata": {},
   "source": [
    "<div>\n",
    "<img src=\"https://static.javatpoint.com/tutorial/machine-learning/images/k-nearest-neighbor-algorithm-for-machine-learning3.png\" width=\"400\">\n",
    "</div>"
   ]
  },
  {
   "cell_type": "markdown",
   "id": "84656df7",
   "metadata": {},
   "source": [
    "One tendecy of KNN is to be very sensitive to data scale, so it is imparitive to **standardize** the data before we fit the model.\n",
    "\n",
    "### Feature selection\n",
    "Since I will be utilizing the KNN classifier algorithm, we must chose the most meaningful features as KNN works best with a lower amount of features. I will be selecting:\n",
    "\n",
    "- weight_oz: The weight of the individual taken that day\n",
    "- calories: The calories consumed of the individual that day\n",
    "- change: The change in weight (in oz) of the individual\n",
    "\n",
    "We will be predicting the outcome of the *run* feature"
   ]
  },
  {
   "cell_type": "code",
   "execution_count": 4,
   "id": "2bfcc392",
   "metadata": {
    "scrolled": true
   },
   "outputs": [
    {
     "name": "stdout",
     "output_type": "stream",
     "text": [
      "           Date  weight_oz  calories    change  run\n",
      "0     7/30/2018   1.341006 -0.835253 -1.140161  0.0\n",
      "1     7/31/2018   0.290610 -0.394115  0.379292  0.0\n",
      "2      8/1/2018   0.570716 -0.461983  0.059407  0.0\n",
      "3      8/2/2018   0.570716 -0.903120 -1.540017  0.0\n",
      "4      8/3/2018  -0.829813 -0.190513  0.619206  0.0\n",
      "..          ...        ...       ...       ...  ...\n",
      "138  12/15/2018  -1.670131  1.743706  0.699177  0.0\n",
      "139  12/16/2018  -1.109919 -0.156580  0.059407  1.0\n",
      "140  12/17/2018  -1.109919 -0.835253 -0.900248  0.0\n",
      "141  12/18/2018  -1.950237 -0.869187 -0.100535  0.0\n",
      "142  12/19/2018  -2.090289 -1.140656 -1.140161  0.0\n",
      "\n",
      "[140 rows x 5 columns]\n"
     ]
    }
   ],
   "source": [
    "from sklearn.preprocessing import StandardScaler\n",
    "#create dataframe for ML model\n",
    "data = pd.read_csv(\"diet_data.csv\")\n",
    "df = pd.DataFrame(data,columns=[\"Date\", \"weight_oz\", \"calories\", \"change\", \"run\"])\n",
    "\n",
    "#clean the data of null data\n",
    "df = df.dropna()\n",
    "\n",
    "#standardize data\n",
    "scaler = StandardScaler()\n",
    "to_scale = ['weight_oz', 'calories', 'change',]\n",
    "df[to_scale] = scaler.fit_transform(df[to_scale])\n",
    "\n",
    "print(df)\n"
   ]
  },
  {
   "cell_type": "markdown",
   "id": "0b216e48",
   "metadata": {},
   "source": [
    "Here we can observe the standardized data\n",
    "# The Model\n",
    "We will perform the train, test split for the features to prepare the data for the algorithm, in turn buidling the model. We will be using a test size of 30%."
   ]
  },
  {
   "cell_type": "code",
   "execution_count": 5,
   "id": "a76803d2",
   "metadata": {},
   "outputs": [],
   "source": [
    "from sklearn.model_selection import train_test_split\n",
    "\n",
    "X_train, X_test, y_train, y_test = train_test_split(df[['weight_oz', 'calories', 'change']], df['run'], test_size=0.3)"
   ]
  },
  {
   "cell_type": "markdown",
   "id": "6fa8b03e",
   "metadata": {},
   "source": [
    "### Building the Classifier model\n",
    "using the prepared data, I will fit the data with the KNN algorithm with K = 4 (4 neighbors, in the middle of too little or too many neighbors preventing overfitting/underfitting)"
   ]
  },
  {
   "cell_type": "code",
   "execution_count": 6,
   "id": "69399e8d",
   "metadata": {},
   "outputs": [],
   "source": [
    "from sklearn.neighbors import KNeighborsClassifier\n",
    "\n",
    "classifier = KNeighborsClassifier(n_neighbors=4)\n",
    "knn = classifier.fit(X_train, y_train)"
   ]
  },
  {
   "cell_type": "markdown",
   "id": "b516e325",
   "metadata": {},
   "source": [
    "### Assesing the model"
   ]
  },
  {
   "cell_type": "code",
   "execution_count": 7,
   "id": "acc2d89b",
   "metadata": {},
   "outputs": [
    {
     "name": "stdout",
     "output_type": "stream",
     "text": [
      "Correct predictions: 31\n",
      "Accuracy of predictions: 73.80952380952381 %\n"
     ]
    }
   ],
   "source": [
    "prediction = classifier.predict(X_test)\n",
    "\n",
    "#sum all correct predictions\n",
    "correct = np.where(prediction == y_test, 1,0).sum()\n",
    "print(\"Correct predictions:\",correct)\n",
    "\n",
    "#find accuracy in percentage\n",
    "accuracy = 100 * (correct/len(y_test))\n",
    "print(\"Accuracy of predictions:\",accuracy,'%')"
   ]
  },
  {
   "cell_type": "code",
   "execution_count": 8,
   "id": "ff1699b2",
   "metadata": {
    "scrolled": false
   },
   "outputs": [
    {
     "name": "stdout",
     "output_type": "stream",
     "text": [
      "Classification Report:\n",
      "               precision    recall  f1-score   support\n",
      "\n",
      "         0.0       0.79      0.91      0.85        33\n",
      "         1.0       0.25      0.11      0.15         9\n",
      "\n",
      "    accuracy                           0.74        42\n",
      "   macro avg       0.52      0.51      0.50        42\n",
      "weighted avg       0.67      0.74      0.70        42\n",
      "\n"
     ]
    }
   ],
   "source": [
    "from sklearn.metrics import classification_report\n",
    "y_pred = knn.predict(X_test)\n",
    "print('Classification Report:\\n', classification_report(y_test, y_pred))"
   ]
  },
  {
   "cell_type": "markdown",
   "id": "dd8654c7",
   "metadata": {},
   "source": [
    "Here, we can see accuracy metrics of the Model that was created from the data deatures that were split for the algorithm. [3]\n",
    "\n",
    "The **accuracy** of the Models predictions is ~73.8 % (rounded up to 74 % by our classification Report), which is a decent score for the data given and the nuance of the data expressed. \n",
    "\n",
    "The **precision** (True Positive/Predicted Positive) is 67%\n",
    "\n",
    "The **recall** (True Positive/[True positive + False negative]) is 74%\n",
    "\n",
    "The **f1-score** (2 * precision * recall/[precision + recall]) is 70%\n",
    "\n",
    "Overall, from the classification report we can conclude a decent to good effectiveness rating for our generated ML model, as it's accuracy is >70%\n",
    "\n",
    "#### Let's take a look at another metric\n",
    "## Confusion Matrix"
   ]
  },
  {
   "cell_type": "code",
   "execution_count": 9,
   "id": "d916d84c",
   "metadata": {
    "scrolled": true
   },
   "outputs": [
    {
     "name": "stdout",
     "output_type": "stream",
     "text": [
      "confusion matrix:\n",
      " [[30  3]\n",
      " [ 8  1]]\n"
     ]
    }
   ],
   "source": [
    "from sklearn.metrics import confusion_matrix\n",
    "\n",
    "#generate confusion matrix\n",
    "y_pred = knn.predict(X_test)\n",
    "cm = confusion_matrix(y_test,y_pred)\n",
    "print(\"confusion matrix:\\n\", cm)"
   ]
  },
  {
   "cell_type": "markdown",
   "id": "9c59a2f4",
   "metadata": {},
   "source": [
    "<div style=\"float: left;\">\n",
    "<img src=\"https://miro.medium.com/v2/resize:fit:712/1*Z54JgbS4DUwWSknhDCvNTQ.png\" width=\"250\">\n",
    "</div>"
   ]
  },
  {
   "cell_type": "markdown",
   "id": "09847c53",
   "metadata": {},
   "source": [
    "*confusion matrix diagram*"
   ]
  },
  {
   "cell_type": "markdown",
   "id": "e893f659",
   "metadata": {},
   "source": [
    "What are we looking at? A confusion matrix is a metric that represents the predicted and actual values of a ML model data group, where the predicted values are the *rows* and the actual values are the *coloumns*. Here, we can see that the model predicted 30 **true positive values** , and predicted 8 values **false negative** , meaning it predicted the value negative incorrectly. Additionally, the model accidentally predicted 3 positive values, the **false positives** - and correctly predicted one true value, the **true negatives**. The total value is the sample size, that being 42 samples predicted to the test sample given, and according to the **TP** and **FN** vales, our model had predicted 31 of those 42 values correctly (with 31/42 being our accuracy score, ~73.8%)"
   ]
  },
  {
   "cell_type": "markdown",
   "id": "7d51ebcf",
   "metadata": {},
   "source": [
    "## Results and takeaway\n",
    "\n",
    "With the results represented by the metrics, we can conclude that this model that was created by the KNN algorithm from our weight loss data is accurate enough to produce a metric to whether an individual is including running into their excercise regimen, according to their weight and other related features. This can be useful to help an individual decide whether they should include running in weight loss regimen, or not!\n",
    "\n",
    "A takeaway from the data may be the timeline that is tied to the set. Because it only spans across around ~5 months, or ~150 samples, it may be beneficial for the algorithm to have an even more comprehensive dataset, such as a more long haul weight loss scenario, despite my belief that this provided data is extremely realistic to real life; with a new diet/excercise regimen lasting ~6 months for the average person. [4] \n",
    "\n",
    "Regardless, I believe the features given to the algorithm are the best features to be used within the variables present in excercise and weightloss, as these variables are the basis of weight on a human. I feel as this model can be seen in a perspective where the \"run\" feature we desire to predict is actually more like an indicator of *moderate activity* more than anything.\n",
    "\n",
    "This model is a decently accurate depiction of the ability for running or moderate activity to impact the chronological journey substanced within weight loss."
   ]
  },
  {
   "cell_type": "markdown",
   "id": "64141443",
   "metadata": {},
   "source": [
    "<div style=\"float: left;\">\n",
    "<img src=\"https://media.istockphoto.com/id/626783824/photo/sport-accident-injury-stumble-and-fall-while-jogging.jpg?s=612x612&w=0&k=20&c=N5-kF4u2crY8Vo98osJTeKypSMKOdj-UUZfm7aVC4D4=\" width=\"300\">\n",
    "</div>"
   ]
  },
  {
   "cell_type": "markdown",
   "id": "93db5570",
   "metadata": {},
   "source": [
    "*Citations:*\n",
    "\n",
    "[1] [Data Set](https://www.kaggle.com/datasets/chrisbow/2018-calorie-exercise-and-weight-changes?resource=download)\n",
    "\n",
    "\n",
    "[2] [K-nearest Neighbor](https://www.ibm.com/topics/knn#:~:text=The%20k%2Dnearest%20neighbors%20algorithm%2C%20also%20known%20as%20KNN%20or,of%20an%20individual%20data%20point.)\n",
    "\n",
    "[3] [Lecture Resources](https://webcampus.fdu.edu/webapps/blackboard/execute/content/file?cmd=view&content_id=_3341287_1&course_id=_238003_1)\n",
    "\n",
    "[4] [Obesity Statistics](https://www.webmd.com/obesity/features/how-to-stay-on-a-diet#:~:text=Typically%2C%20people%20last%20about%20six,University%27s%20Pennington%20Biomedical%20Research%20Center.)\n",
    "\n",
    "Images:\n",
    "\n",
    "[Runner](https://hips.hearstapps.com/hmg-prod/images/articles/2016/09/running-tips-1486650558.jpg?resize=1200:*)\n",
    "[KNN graph](https://static.javatpoint.com/tutorial/machine-learning/images/k-nearest-neighbor-algorithm-for-machine-learning3.png)\n",
    "[Confusion matrix](https://www.google.com/url?sa=i&url=https%3A%2F%2Ftowardsdatascience.com%2Funderstanding-confusion-matrix-a9ad42dcfd62&psig=AOvVaw2rUViyKK-dMhLh2K9TEz2X&ust=1684190074462000&source=images&cd=vfe&ved=0CA0QjRxqFwoTCMjR0ovv9f4CFQAAAAAdAAAAABAD![image.png](attachment:image.png))\n",
    "[Runner falling on ground](https://media.istockphoto.com/id/626783824/photo/sport-accident-injury-stumble-and-fall-while-jogging.jpg?s=612x612&w=0&k=20&c=N5-kF4u2crY8Vo98osJTeKypSMKOdj-UUZfm7aVC4D4=)"
   ]
  }
 ],
 "metadata": {
  "kernelspec": {
   "display_name": "Python 3 (ipykernel)",
   "language": "python",
   "name": "python3"
  },
  "language_info": {
   "codemirror_mode": {
    "name": "ipython",
    "version": 3
   },
   "file_extension": ".py",
   "mimetype": "text/x-python",
   "name": "python",
   "nbconvert_exporter": "python",
   "pygments_lexer": "ipython3",
   "version": "3.9.13"
  }
 },
 "nbformat": 4,
 "nbformat_minor": 5
}
